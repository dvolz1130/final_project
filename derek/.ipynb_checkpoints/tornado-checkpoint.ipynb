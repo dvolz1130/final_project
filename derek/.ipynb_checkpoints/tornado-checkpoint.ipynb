{
 "cells": [
  {
   "cell_type": "code",
   "execution_count": 2,
   "id": "4f31e2be",
   "metadata": {},
   "outputs": [],
   "source": [
    "import pandas as pd\n",
    "import numpy as np\n",
    "import tensorflow as tf\n",
    "import seaborn as sns\n",
    "import matplotlib.pyplot as plt\n",
    "import matplotlib as mpl\n",
    "\n",
    "from tensorflow import keras\n",
    "from tensorflow.keras import layers\n",
    "from tensorflow.keras.layers.experimental import preprocessing"
   ]
  },
  {
   "cell_type": "code",
   "execution_count": 3,
   "id": "308e8e7c",
   "metadata": {},
   "outputs": [],
   "source": [
    "file_2013 = 'data_sets/StormEvents_details-ftp_v1.0_d2013_c20210803.csv'\n",
    "file_2014 = 'data_sets/StormEvents_details-ftp_v1.0_d2014_c20210830.csv'\n",
    "file_2015 = 'data_sets/StormEvents_details-ftp_v1.0_d2015_c20210803.csv'\n",
    "file_2016 = 'data_sets/StormEvents_details-ftp_v1.0_d2016_c20210803.csv'\n",
    "file_2017 = 'data_sets/StormEvents_details-ftp_v1.0_d2017_c20210803.csv'\n",
    "file_2018 = 'data_sets/StormEvents_details-ftp_v1.0_d2018_c20210817.csv'\n",
    "file_2019 = 'data_sets/StormEvents_details-ftp_v1.0_d2019_c20210803.csv'\n",
    "file_2020 = 'data_sets/StormEvents_details-ftp_v1.0_d2020_c20210819.csv'"
   ]
  },
  {
   "cell_type": "code",
   "execution_count": 4,
   "id": "c9c2d0ae",
   "metadata": {},
   "outputs": [],
   "source": [
    "df_2013 = pd.read_csv(file_2013, encoding=\"ISO-8859-1\")\n",
    "df_2014 = pd.read_csv(file_2014, encoding=\"ISO-8859-1\")\n",
    "df_2015 = pd.read_csv(file_2015, encoding=\"ISO-8859-1\")\n",
    "df_2016 = pd.read_csv(file_2016, encoding=\"ISO-8859-1\")\n",
    "df_2017 = pd.read_csv(file_2017, encoding=\"ISO-8859-1\")\n",
    "df_2018 = pd.read_csv(file_2018, encoding=\"ISO-8859-1\")\n",
    "df_2019 = pd.read_csv(file_2019, encoding=\"ISO-8859-1\")\n",
    "df_2020 = pd.read_csv(file_2020, encoding=\"ISO-8859-1\")"
   ]
  },
  {
   "cell_type": "code",
   "execution_count": 5,
   "id": "a77a401d",
   "metadata": {},
   "outputs": [
    {
     "data": {
      "text/plain": [
       "(1053, 6)"
      ]
     },
     "execution_count": 5,
     "metadata": {},
     "output_type": "execute_result"
    }
   ],
   "source": [
    "#2013\n",
    "tornado_df_2013 = df_2013[(df_2013['EVENT_TYPE'] == 'Tornado')].copy()\n",
    "#tornado_df_2013.head()\n",
    "\n",
    "clean_tornado_df_2013 = tornado_df_2013[['BEGIN_YEARMONTH','STATE','EVENT_TYPE','TOR_F_SCALE','TOR_LENGTH','TOR_WIDTH']].copy()\n",
    "clean_tornado_df_2013 = clean_tornado_df_2013.reset_index(drop=True)\n",
    "clean_tornado_df_2013.shape"
   ]
  },
  {
   "cell_type": "code",
   "execution_count": 6,
   "id": "3b0e96f9",
   "metadata": {},
   "outputs": [
    {
     "data": {
      "text/plain": [
       "(1064, 6)"
      ]
     },
     "execution_count": 6,
     "metadata": {},
     "output_type": "execute_result"
    }
   ],
   "source": [
    "#2014\n",
    "tornado_df_2014 = df_2014[(df_2014['EVENT_TYPE'] == 'Tornado')].copy()\n",
    "#tornado_df_2014.head()\n",
    "\n",
    "clean_tornado_df_2014 = tornado_df_2014[['BEGIN_YEARMONTH','STATE','EVENT_TYPE','TOR_F_SCALE','TOR_LENGTH','TOR_WIDTH']].copy()\n",
    "clean_tornado_df_2014 = clean_tornado_df_2014.reset_index(drop=True)\n",
    "clean_tornado_df_2014.shape"
   ]
  },
  {
   "cell_type": "code",
   "execution_count": 7,
   "id": "774842dd",
   "metadata": {},
   "outputs": [
    {
     "data": {
      "text/plain": [
       "(1320, 6)"
      ]
     },
     "execution_count": 7,
     "metadata": {},
     "output_type": "execute_result"
    }
   ],
   "source": [
    "#2015\n",
    "tornado_df_2015 = df_2015[(df_2015['EVENT_TYPE'] == 'Tornado')].copy()\n",
    "#tornado_df_2015.head()\n",
    "\n",
    "clean_tornado_df_2015 = tornado_df_2015[['BEGIN_YEARMONTH','STATE','EVENT_TYPE','TOR_F_SCALE','TOR_LENGTH','TOR_WIDTH']].copy()\n",
    "clean_tornado_df_2015 = clean_tornado_df_2015.reset_index(drop=True)\n",
    "clean_tornado_df_2015.shape"
   ]
  },
  {
   "cell_type": "code",
   "execution_count": 8,
   "id": "222d78bb",
   "metadata": {},
   "outputs": [
    {
     "data": {
      "text/plain": [
       "(1079, 6)"
      ]
     },
     "execution_count": 8,
     "metadata": {},
     "output_type": "execute_result"
    }
   ],
   "source": [
    "#2016\n",
    "tornado_df_2016 = df_2016[(df_2016['EVENT_TYPE'] == 'Tornado')].copy()\n",
    "#tornado_df_2016.head()\n",
    "\n",
    "clean_tornado_df_2016 = tornado_df_2016[['BEGIN_YEARMONTH','STATE','EVENT_TYPE','TOR_F_SCALE','TOR_LENGTH','TOR_WIDTH']].copy()\n",
    "clean_tornado_df_2016 = clean_tornado_df_2016.reset_index(drop=True)\n",
    "clean_tornado_df_2016.shape"
   ]
  },
  {
   "cell_type": "code",
   "execution_count": 9,
   "id": "61b2c267",
   "metadata": {},
   "outputs": [
    {
     "data": {
      "text/plain": [
       "(1647, 6)"
      ]
     },
     "execution_count": 9,
     "metadata": {},
     "output_type": "execute_result"
    }
   ],
   "source": [
    "#2017\n",
    "tornado_df_2017 = df_2017[(df_2017['EVENT_TYPE'] == 'Tornado')].copy()\n",
    "#tornado_df_2017.head()\n",
    "\n",
    "clean_tornado_df_2017 = tornado_df_2017[['BEGIN_YEARMONTH','STATE','EVENT_TYPE','TOR_F_SCALE','TOR_LENGTH','TOR_WIDTH']].copy()\n",
    "clean_tornado_df_2017 = clean_tornado_df_2017.reset_index(drop=True)\n",
    "clean_tornado_df_2017.shape"
   ]
  },
  {
   "cell_type": "code",
   "execution_count": 10,
   "id": "904ab84c",
   "metadata": {},
   "outputs": [
    {
     "data": {
      "text/plain": [
       "BEGIN_YEARMONTH      int64\n",
       "STATE               object\n",
       "EVENT_TYPE          object\n",
       "TOR_F_SCALE         object\n",
       "TOR_LENGTH         float64\n",
       "TOR_WIDTH          float64\n",
       "dtype: object"
      ]
     },
     "execution_count": 10,
     "metadata": {},
     "output_type": "execute_result"
    }
   ],
   "source": [
    "#2018\n",
    "tornado_df_2018 = df_2018[(df_2018['EVENT_TYPE'] == 'Tornado')].copy()\n",
    "#tornado_df_2018.head()\n",
    "\n",
    "clean_tornado_df_2018 = tornado_df_2018[['BEGIN_YEARMONTH','STATE','EVENT_TYPE','TOR_F_SCALE','TOR_LENGTH','TOR_WIDTH']].copy()\n",
    "clean_tornado_df_2018 = clean_tornado_df_2018.reset_index(drop=True)\n",
    "clean_tornado_df_2018.dtypes\n",
    "\n",
    "# clean_tornado_df_2018['BEGIN_YEARMONTH'] = pd.to_datetime(df['BEGIN_YEARMONTH'])\n",
    "# clean_tornado_df_2018"
   ]
  },
  {
   "cell_type": "code",
   "execution_count": 11,
   "id": "d1a49416",
   "metadata": {},
   "outputs": [
    {
     "data": {
      "text/plain": [
       "(1732, 7)"
      ]
     },
     "execution_count": 11,
     "metadata": {},
     "output_type": "execute_result"
    }
   ],
   "source": [
    "#2019\n",
    "tornado_df_2019 = df_2019[(df_2019['EVENT_TYPE'] == 'Tornado')].copy()\n",
    "#tornado_df_2019.head()\n",
    "\n",
    "clean_tornado_df_2019 = tornado_df_2019[['BEGIN_YEARMONTH','STATE','EVENT_TYPE','TOR_F_SCALE','TOR_LENGTH','TOR_WIDTH']].copy()\n",
    "clean_tornado_df_2019 = clean_tornado_df_2019.reset_index()\n",
    "clean_tornado_df_2019.shape"
   ]
  },
  {
   "cell_type": "code",
   "execution_count": 12,
   "id": "286070e5",
   "metadata": {},
   "outputs": [
    {
     "data": {
      "text/plain": [
       "(1246, 7)"
      ]
     },
     "execution_count": 12,
     "metadata": {},
     "output_type": "execute_result"
    }
   ],
   "source": [
    "#2020\n",
    "tornado_df_2020 = df_2020[(df_2020['EVENT_TYPE'] == 'Tornado')].copy()\n",
    "#tornado_df_2020.head()\n",
    "\n",
    "clean_tornado_df_2020 = tornado_df_2020[['BEGIN_YEARMONTH','STATE','EVENT_TYPE','TOR_F_SCALE','TOR_LENGTH','TOR_WIDTH']].copy()\n",
    "clean_tornado_df_2020 = clean_tornado_df_2020.reset_index()\n",
    "clean_tornado_df_2020.shape"
   ]
  },
  {
   "cell_type": "code",
   "execution_count": 15,
   "id": "90b7b0ec",
   "metadata": {},
   "outputs": [
    {
     "data": {
      "text/html": [
       "<div>\n",
       "<style scoped>\n",
       "    .dataframe tbody tr th:only-of-type {\n",
       "        vertical-align: middle;\n",
       "    }\n",
       "\n",
       "    .dataframe tbody tr th {\n",
       "        vertical-align: top;\n",
       "    }\n",
       "\n",
       "    .dataframe thead th {\n",
       "        text-align: right;\n",
       "    }\n",
       "</style>\n",
       "<table border=\"1\" class=\"dataframe\">\n",
       "  <thead>\n",
       "    <tr style=\"text-align: right;\">\n",
       "      <th></th>\n",
       "      <th>BEGIN_YEARMONTH</th>\n",
       "      <th>STATE</th>\n",
       "      <th>EVENT_TYPE</th>\n",
       "      <th>TOR_F_SCALE</th>\n",
       "      <th>TOR_LENGTH</th>\n",
       "      <th>TOR_WIDTH</th>\n",
       "    </tr>\n",
       "  </thead>\n",
       "  <tbody>\n",
       "    <tr>\n",
       "      <th>0</th>\n",
       "      <td>201306</td>\n",
       "      <td>MARYLAND</td>\n",
       "      <td>Tornado</td>\n",
       "      <td>EF0</td>\n",
       "      <td>20.10</td>\n",
       "      <td>150.0</td>\n",
       "    </tr>\n",
       "    <tr>\n",
       "      <th>1</th>\n",
       "      <td>201307</td>\n",
       "      <td>MARYLAND</td>\n",
       "      <td>Tornado</td>\n",
       "      <td>EF0</td>\n",
       "      <td>0.80</td>\n",
       "      <td>100.0</td>\n",
       "    </tr>\n",
       "    <tr>\n",
       "      <th>2</th>\n",
       "      <td>201310</td>\n",
       "      <td>NEBRASKA</td>\n",
       "      <td>Tornado</td>\n",
       "      <td>EF0</td>\n",
       "      <td>1.71</td>\n",
       "      <td>400.0</td>\n",
       "    </tr>\n",
       "    <tr>\n",
       "      <th>3</th>\n",
       "      <td>201310</td>\n",
       "      <td>NEBRASKA</td>\n",
       "      <td>Tornado</td>\n",
       "      <td>EF0</td>\n",
       "      <td>0.68</td>\n",
       "      <td>50.0</td>\n",
       "    </tr>\n",
       "    <tr>\n",
       "      <th>4</th>\n",
       "      <td>201307</td>\n",
       "      <td>OHIO</td>\n",
       "      <td>Tornado</td>\n",
       "      <td>EF0</td>\n",
       "      <td>2.14</td>\n",
       "      <td>75.0</td>\n",
       "    </tr>\n",
       "  </tbody>\n",
       "</table>\n",
       "</div>"
      ],
      "text/plain": [
       "   BEGIN_YEARMONTH     STATE EVENT_TYPE TOR_F_SCALE  TOR_LENGTH  TOR_WIDTH\n",
       "0           201306  MARYLAND    Tornado         EF0       20.10      150.0\n",
       "1           201307  MARYLAND    Tornado         EF0        0.80      100.0\n",
       "2           201310  NEBRASKA    Tornado         EF0        1.71      400.0\n",
       "3           201310  NEBRASKA    Tornado         EF0        0.68       50.0\n",
       "4           201307      OHIO    Tornado         EF0        2.14       75.0"
      ]
     },
     "execution_count": 15,
     "metadata": {},
     "output_type": "execute_result"
    }
   ],
   "source": [
    "# concat tornado years dfs\n",
    "frames = [clean_tornado_df_2013,clean_tornado_df_2014,clean_tornado_df_2015,clean_tornado_df_2016,clean_tornado_df_2017,\n",
    "          clean_tornado_df_2018,clean_tornado_df_2019,clean_tornado_df_2020]\n",
    "combined_tornado_df = pd.concat(frames)\n",
    "combined_tornado_df = combined_tornado_df.drop(['index'], axis=1)\n",
    "combined_tornado_df.to_csv(inde)\n",
    "combined_tornado_df.head()"
   ]
  },
  {
   "cell_type": "code",
   "execution_count": 108,
   "id": "6578ba47",
   "metadata": {},
   "outputs": [
    {
     "data": {
      "text/html": [
       "<div>\n",
       "<style scoped>\n",
       "    .dataframe tbody tr th:only-of-type {\n",
       "        vertical-align: middle;\n",
       "    }\n",
       "\n",
       "    .dataframe tbody tr th {\n",
       "        vertical-align: top;\n",
       "    }\n",
       "\n",
       "    .dataframe thead th {\n",
       "        text-align: right;\n",
       "    }\n",
       "</style>\n",
       "<table border=\"1\" class=\"dataframe\">\n",
       "  <thead>\n",
       "    <tr style=\"text-align: right;\">\n",
       "      <th></th>\n",
       "      <th>BEGIN_YEARMONTH</th>\n",
       "      <th>STATE</th>\n",
       "      <th>EVENT_TYPE</th>\n",
       "      <th>TOR_F_SCALE</th>\n",
       "      <th>TOR_LENGTH</th>\n",
       "      <th>TOR_WIDTH</th>\n",
       "    </tr>\n",
       "  </thead>\n",
       "  <tbody>\n",
       "    <tr>\n",
       "      <th>0</th>\n",
       "      <td>2016-07-01</td>\n",
       "      <td>MARYLAND</td>\n",
       "      <td>Tornado</td>\n",
       "      <td>EF0</td>\n",
       "      <td>20.10</td>\n",
       "      <td>150.0</td>\n",
       "    </tr>\n",
       "    <tr>\n",
       "      <th>1</th>\n",
       "      <td>2016-07-01</td>\n",
       "      <td>MARYLAND</td>\n",
       "      <td>Tornado</td>\n",
       "      <td>EF0</td>\n",
       "      <td>0.80</td>\n",
       "      <td>100.0</td>\n",
       "    </tr>\n",
       "    <tr>\n",
       "      <th>2</th>\n",
       "      <td>2016-07-01</td>\n",
       "      <td>NEBRASKA</td>\n",
       "      <td>Tornado</td>\n",
       "      <td>EF0</td>\n",
       "      <td>1.71</td>\n",
       "      <td>400.0</td>\n",
       "    </tr>\n",
       "    <tr>\n",
       "      <th>3</th>\n",
       "      <td>2016-07-01</td>\n",
       "      <td>NEBRASKA</td>\n",
       "      <td>Tornado</td>\n",
       "      <td>EF0</td>\n",
       "      <td>0.68</td>\n",
       "      <td>50.0</td>\n",
       "    </tr>\n",
       "    <tr>\n",
       "      <th>4</th>\n",
       "      <td>2016-07-01</td>\n",
       "      <td>OHIO</td>\n",
       "      <td>Tornado</td>\n",
       "      <td>EF0</td>\n",
       "      <td>2.14</td>\n",
       "      <td>75.0</td>\n",
       "    </tr>\n",
       "  </tbody>\n",
       "</table>\n",
       "</div>"
      ],
      "text/plain": [
       "  BEGIN_YEARMONTH     STATE EVENT_TYPE TOR_F_SCALE  TOR_LENGTH  TOR_WIDTH\n",
       "0      2016-07-01  MARYLAND    Tornado         EF0       20.10      150.0\n",
       "1      2016-07-01  MARYLAND    Tornado         EF0        0.80      100.0\n",
       "2      2016-07-01  NEBRASKA    Tornado         EF0        1.71      400.0\n",
       "3      2016-07-01  NEBRASKA    Tornado         EF0        0.68       50.0\n",
       "4      2016-07-01      OHIO    Tornado         EF0        2.14       75.0"
      ]
     },
     "execution_count": 108,
     "metadata": {},
     "output_type": "execute_result"
    }
   ],
   "source": [
    "# convert float to datetime\n",
    "combined_tornado_df['BEGIN_YEARMONTH'] = pd.to_datetime(df['BEGIN_YEARMONTH'], format='%Y%m')\n",
    "combined_tornado_df.head()"
   ]
  },
  {
   "cell_type": "code",
   "execution_count": 202,
   "id": "f9058a1d",
   "metadata": {},
   "outputs": [
    {
     "data": {
      "text/html": [
       "<div>\n",
       "<style scoped>\n",
       "    .dataframe tbody tr th:only-of-type {\n",
       "        vertical-align: middle;\n",
       "    }\n",
       "\n",
       "    .dataframe tbody tr th {\n",
       "        vertical-align: top;\n",
       "    }\n",
       "\n",
       "    .dataframe thead th {\n",
       "        text-align: right;\n",
       "    }\n",
       "</style>\n",
       "<table border=\"1\" class=\"dataframe\">\n",
       "  <thead>\n",
       "    <tr style=\"text-align: right;\">\n",
       "      <th></th>\n",
       "      <th>STATE</th>\n",
       "      <th>Tornado_Count</th>\n",
       "    </tr>\n",
       "  </thead>\n",
       "  <tbody>\n",
       "    <tr>\n",
       "      <th>0</th>\n",
       "      <td>ALABAMA</td>\n",
       "      <td>506</td>\n",
       "    </tr>\n",
       "    <tr>\n",
       "      <th>1</th>\n",
       "      <td>ARIZONA</td>\n",
       "      <td>32</td>\n",
       "    </tr>\n",
       "    <tr>\n",
       "      <th>2</th>\n",
       "      <td>ARKANSAS</td>\n",
       "      <td>279</td>\n",
       "    </tr>\n",
       "    <tr>\n",
       "      <th>3</th>\n",
       "      <td>CALIFORNIA</td>\n",
       "      <td>61</td>\n",
       "    </tr>\n",
       "    <tr>\n",
       "      <th>4</th>\n",
       "      <td>COLORADO</td>\n",
       "      <td>328</td>\n",
       "    </tr>\n",
       "  </tbody>\n",
       "</table>\n",
       "</div>"
      ],
      "text/plain": [
       "        STATE  Tornado_Count\n",
       "0     ALABAMA            506\n",
       "1     ARIZONA             32\n",
       "2    ARKANSAS            279\n",
       "3  CALIFORNIA             61\n",
       "4    COLORADO            328"
      ]
     },
     "execution_count": 202,
     "metadata": {},
     "output_type": "execute_result"
    }
   ],
   "source": [
    "#Tornado count by state from 2013 - 2020\n",
    "cleaned_comb_tornado = combined_tornado_df[['STATE','EVENT_TYPE']]\n",
    "#cleaned_comb_tornado\n",
    "tornado_count = cleaned_comb_tornado.groupby(['STATE']).count()\n",
    "tornado_count.rename(columns={'EVENT_TYPE':'Tornado_Count'}, inplace=True)\n",
    "tornado_count = tornado_count.reset_index()\n",
    "tornado_count.head()\n",
    "\n",
    "tornado_count.iloc[:,1:2].shape\n",
    "tornado_count.head()"
   ]
  },
  {
   "cell_type": "code",
   "execution_count": 252,
   "id": "e2317f94",
   "metadata": {},
   "outputs": [],
   "source": [
    "def build_and_compile_model(norm):\n",
    "  model = keras.Sequential([\n",
    "      norm,\n",
    "      layers.Dense(64, activation='relu'),\n",
    "      layers.Dense(64, activation='relu'),\n",
    "      layers.Dense(1)\n",
    "  ])\n",
    "\n",
    "  model.compile(loss='mean_absolute_error',\n",
    "                optimizer=tf.keras.optimizers.Adam(0.001))\n",
    "  return model"
   ]
  },
  {
   "cell_type": "code",
   "execution_count": 264,
   "id": "d0ef5d97",
   "metadata": {},
   "outputs": [
    {
     "data": {
      "text/plain": [
       "(42, 1)"
      ]
     },
     "execution_count": 264,
     "metadata": {},
     "output_type": "execute_result"
    }
   ],
   "source": [
    "train_features = tornado_count.iloc[:,1:2].sample(frac=0.8, random_state=0)\n",
    "test_features = tornado_count.iloc[:,1:2].drop(train_features.index)\n",
    "test_features.head()\n",
    "\n",
    "sample_train = train_features.copy()\n",
    "sample_test = test_features.copy()\n",
    "train_labels = sample_train.pop('Tornado_Count')\n",
    "test_labels = sample_test.pop('Tornado_Count')\n",
    "\n",
    "train_features.shape"
   ]
  },
  {
   "cell_type": "code",
   "execution_count": 255,
   "id": "1c236e14",
   "metadata": {},
   "outputs": [],
   "source": [
    "normalizer = preprocessing.Normalization(axis=-1)\n",
    "normalizer.adapt(np.array(train_labels))"
   ]
  },
  {
   "cell_type": "code",
   "execution_count": 256,
   "id": "acb6229c",
   "metadata": {},
   "outputs": [
    {
     "name": "stdout",
     "output_type": "stream",
     "text": [
      "Model: \"sequential_10\"\n",
      "_________________________________________________________________\n",
      "Layer (type)                 Output Shape              Param #   \n",
      "=================================================================\n",
      "normalization_10 (Normalizat (None, 1)                 3         \n",
      "_________________________________________________________________\n",
      "dense_26 (Dense)             (None, 64)                128       \n",
      "_________________________________________________________________\n",
      "dense_27 (Dense)             (None, 64)                4160      \n",
      "_________________________________________________________________\n",
      "dense_28 (Dense)             (None, 1)                 65        \n",
      "=================================================================\n",
      "Total params: 4,356\n",
      "Trainable params: 4,353\n",
      "Non-trainable params: 3\n",
      "_________________________________________________________________\n"
     ]
    }
   ],
   "source": [
    "dnn_model = build_and_compile_model(normalizer)\n",
    "dnn_model.summary()"
   ]
  },
  {
   "cell_type": "code",
   "execution_count": 257,
   "id": "2aa5706d",
   "metadata": {},
   "outputs": [
    {
     "name": "stdout",
     "output_type": "stream",
     "text": [
      "Wall time: 17.6 s\n"
     ]
    }
   ],
   "source": [
    "%%time\n",
    "history = dnn_model.fit(\n",
    "    train_features, train_labels,\n",
    "    validation_data=(test_features, test_labels),\n",
    "    verbose=0, epochs=1500)"
   ]
  },
  {
   "cell_type": "code",
   "execution_count": 258,
   "id": "b924a849",
   "metadata": {},
   "outputs": [
    {
     "name": "stdout",
     "output_type": "stream",
     "text": [
      "(10,)\n"
     ]
    },
    {
     "data": {
      "text/plain": [
       "(10,)"
      ]
     },
     "execution_count": 258,
     "metadata": {},
     "output_type": "execute_result"
    }
   ],
   "source": [
    "test_predictions = dnn_model.predict(test_features).flatten()\n",
    "print(test_predictions.shape)\n",
    "test_labels.shape"
   ]
  },
  {
   "cell_type": "code",
   "execution_count": 261,
   "id": "0af7b615",
   "metadata": {},
   "outputs": [
    {
     "data": {
      "image/png": "[encoded data removed]",
      "text/plain": [
       "<Figure size 800x550 with 1 Axes>"
      ]
     },
     "metadata": {},
     "output_type": "display_data"
    }
   ],
   "source": [
    "plt.axes(aspect='equal')\n",
    "plt.scatter(test_labels, test_predictions)\n",
    "plt.xlabel('True Values [Tornado Count]')\n",
    "plt.ylabel('Predictions [Tornado Count]')\n",
    "\n",
    "lims = [0, 600]\n",
    "plt.xlim(lims)\n",
    "plt.ylim(lims)\n",
    "mpl.style.use('seaborn')\n",
    "plt.title('Continental US Predicted vs Actual')\n",
    "_ = plt.plot(lims, lims, 'C2')\n",
    "plt.savefig('data_sets/conus_predicted_tornados.png')\n",
    "plt.show()"
   ]
  },
  {
   "cell_type": "code",
   "execution_count": null,
   "id": "0eece4ff",
   "metadata": {},
   "outputs": [],
   "source": []
  }
 ],
 "metadata": {
  "kernelspec": {
   "display_name": "Python 3",
   "language": "python",
   "name": "python3"
  },
  "language_info": {
   "codemirror_mode": {
    "name": "ipython",
    "version": 3
   },
   "file_extension": ".py",
   "mimetype": "text/x-python",
   "name": "python",
   "nbconvert_exporter": "python",
   "pygments_lexer": "ipython3",
   "version": "3.8.8"
  }
 },
 "nbformat": 4,
 "nbformat_minor": 5
}
